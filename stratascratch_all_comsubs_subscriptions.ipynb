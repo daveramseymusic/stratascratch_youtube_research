{
 "cells": [
  {
   "cell_type": "markdown",
   "metadata": {},
   "source": [
    "# Get StrataScratch Subscribers with .subscribers() Youtube API"
   ]
  },
  {
   "cell_type": "code",
   "execution_count": null,
   "metadata": {},
   "outputs": [],
   "source": [
    "# !pip install google-auth\n",
    "# !pip install google-auth-oauthlib"
   ]
  },
  {
   "cell_type": "code",
   "execution_count": 2,
   "metadata": {},
   "outputs": [],
   "source": [
    "import pandas as pd\n",
    "import os\n",
    "import pickle\n",
    "import time\n",
    "from os import path\n",
    "from pathlib2 import Path\n",
    "\n",
    "from google_auth_oauthlib.flow import InstalledAppFlow\n",
    "from google.auth.transport.requests import Request\n",
    "import googleapiclient.discovery\n",
    "import googleapiclient.errors\n"
   ]
  },
  {
   "cell_type": "markdown",
   "metadata": {},
   "source": [
    "load credentials"
   ]
  },
  {
   "cell_type": "code",
   "execution_count": 3,
   "metadata": {
    "collapsed": true
   },
   "outputs": [
    {
     "name": "stdout",
     "output_type": "stream",
     "text": [
      "Loading Credentials From File...\n",
      "Refreshing Access Token...\n"
     ]
    }
   ],
   "source": [
    "credentials = None\n",
    "\n",
    "# token.pickle stores the user's credentials from previously successful logins\n",
    "if os.path.exists('token.pickle'):\n",
    "    print('Loading Credentials From File...')\n",
    "    with open('token.pickle', 'rb') as token:\n",
    "        credentials = pickle.load(token)\n",
    "\n",
    "# Google's Request\n",
    "from google.auth.transport.requests import Request\n",
    "\n",
    "# If there are no valid credentials available, then either refresh the token or log in.\n",
    "if not credentials or not credentials.valid:\n",
    "    if credentials and credentials.expired and credentials.refresh_token:\n",
    "        print('Refreshing Access Token...')\n",
    "        credentials.refresh(Request())\n",
    "    else:\n",
    "        print('Fetching New Tokens...')\n",
    "        flow = InstalledAppFlow.from_client_secrets_file(\n",
    "            'client_secrets.json',\n",
    "            scopes=[\n",
    "                'https://www.googleapis.com/auth/youtube.readonly'\n",
    "            ]\n",
    "        )\n",
    "\n",
    "        flow.run_local_server(port=8080, prompt='consent')#,authorization_prompt_message='')\n",
    "        credentials = flow.credentials\n",
    "\n",
    "        # Save the credentials for the next run\n",
    "        with open('token.pickle', 'wb') as f:\n",
    "            print('Saving Credentials for Future Use...')\n",
    "            pickle.dump(credentials, f)"
   ]
  },
  {
   "cell_type": "code",
   "execution_count": 4,
   "metadata": {},
   "outputs": [],
   "source": [
    "#Get first response for sub/comms subscriptions that are allowed:\n",
    "def get_subcomms_subscriptions_first_response(channelId):\n",
    "        api_service_name = \"youtube\"\n",
    "        api_version = \"v3\"\n",
    "\n",
    "        youtube = googleapiclient.discovery.build(api_service_name, api_version, credentials=credentials)\n",
    "        request = youtube.subscriptions().list(part=\"snippet\",channelId=channelId)\n",
    "        # request = youtube.subscriptions().list(part=\"snippet,contentDetails\",pageToken='CLYHEAE', maxResults=maxResults,mySubscribers=True)\n",
    "        response = request.execute()\n",
    "        return response, request, youtube"
   ]
  },
  {
   "cell_type": "code",
   "execution_count": 74,
   "metadata": {},
   "outputs": [],
   "source": [
    "def get_subscriber_ids(df,response):\n",
    "    for sub in response['items']:\n",
    "        if sub['kind'] == 'youtube#subscription': \n",
    "            \n",
    "            response_kind =sub['kind']\n",
    "            publishedAt=sub['snippet']['publishedAt']\n",
    "            channel_title =sub['snippet']['title']\n",
    "            channel_description =sub['snippet']['description']\n",
    "            channelId = sub['snippet']['resourceId']['channelId']\n",
    "            sub_channelId = sub['snippet']['channelId']        \n",
    "\n",
    "            try:\n",
    "                if response['nextPageToken'] != None:\n",
    "                    pageToken = response['nextPageToken']\n",
    "                    df = df.append({'response_kind': response_kind, 'publishedAt':publishedAt, 'channel_title':channel_title,'channel_description':channel_description,'channelId':channelId,'sub_channelId':sub_channelId,'pageToken':pageToken},ignore_index=True)    \n",
    "                else:\n",
    "                    df = df.append({'response_kind': response_kind, 'publishedAt':publishedAt, 'channel_title':channel_title,'channelId':channelId,'sub_channelId':sub_channelId,'pageToken':'none'},ignore_index=True)    \n",
    "            except Exception as e: \n",
    "                print('get_subs_ids error:')\n",
    "                print(e)\n",
    "                #save data in pandas df\n",
    "                df = df.append({'response_kind': response_kind, 'publishedAt':publishedAt, 'channel_title':channel_title,'channelId':channelId,'sub_channelId':sub_channelId,'pageToken':'none'},ignore_index=True)\n",
    "    \n",
    "    return df"
   ]
  },
  {
   "cell_type": "code",
   "execution_count": 75,
   "metadata": {},
   "outputs": [],
   "source": [
    "def get_subs_pagination(df,request,response,youtube):\n",
    "    while 1:\n",
    "        try:\n",
    "            request = youtube.subscriptions().list_next(previous_request=request, previous_response=response)\n",
    "            response = request.execute()\n",
    "            df = get_subscriber_ids(df,response)\n",
    "        \n",
    "        except Exception as e: \n",
    "            print('get_subs_paginations error:')\n",
    "            print(e) \n",
    "            break\n",
    "    \n",
    "    return df,request,response"
   ]
  },
  {
   "cell_type": "code",
   "execution_count": 76,
   "metadata": {},
   "outputs": [],
   "source": [
    "# def main_getter(df,chan_ids,start):  #this uses all other functions to get all subscriptions\n",
    "#     for channelId in chan_ids[start:goal]:\n",
    "\n",
    "#         try:        \n",
    "#             response ,request, youtube = get_subcomms_subscriptions_first_response(channelId)\n",
    "#             #turn first response to df\n",
    "#             df = get_subscriber_ids(df,response)\n",
    "#             print('df length: ' + str(len(df)))\n",
    "#             print(start)\n",
    "\n",
    "#             df,request,response = get_subs_pagination(df=df,response=response ,request=request, youtube=youtube)\n",
    "#             print(\"user count: \" +str(df.sub_channelId.nunique()))\n",
    "#             last_unique_scId = df.loc[df.index[-1],'sub_channelId']\n",
    "#             last_Id_idx = list(chan_ids).index(last_unique_scId)\n",
    "#             print(f'last unique ID: {last_unique_scId}')\n",
    "#         except:\n",
    "#             pass\n",
    "        \n",
    "#     last_user = df.sub_channelId.nunique() + start #create last user variable to use for name\n",
    "#     return df, last_user"
   ]
  },
  {
   "cell_type": "markdown",
   "metadata": {},
   "source": [
    "## Main"
   ]
  },
  {
   "cell_type": "code",
   "execution_count": 56,
   "metadata": {},
   "outputs": [],
   "source": [
    "# # Manual Variables\n",
    "# # start=0\n",
    "\n",
    "# cnname = 'gofig' # channel nick name\n",
    "\n",
    "# comments_csv = 'gofig_youtube_comments_974rows.csv'\n",
    "# # start  = 734  #from last pull on gofig"
   ]
  },
  {
   "cell_type": "code",
   "execution_count": 147,
   "metadata": {},
   "outputs": [
    {
     "data": {
      "text/plain": [
       "140"
      ]
     },
     "execution_count": 147,
     "metadata": {},
     "output_type": "execute_result"
    }
   ],
   "source": [
    "start"
   ]
  },
  {
   "cell_type": "code",
   "execution_count": 157,
   "metadata": {},
   "outputs": [
    {
     "data": {
      "text/plain": [
       "419"
      ]
     },
     "execution_count": 157,
     "metadata": {},
     "output_type": "execute_result"
    }
   ],
   "source": [
    "# Manual Variables\n",
    "# start=139\n",
    "cnname = 'primeagen' # channel nick name\n",
    "\n",
    "comments_csv = 'theprime_youtube_comments_11045rows.csv'\n",
    "\n",
    "goal = start + 2\n",
    "\n",
    "start"
   ]
  },
  {
   "cell_type": "code",
   "execution_count": 158,
   "metadata": {},
   "outputs": [
    {
     "name": "stdout",
     "output_type": "stream",
     "text": [
      "users collected this round: 31 / error ct: 0 / attempting this round: 200\n",
      "start: 419 / at: 419 / goal: 619 / All Possible Commenters: 3981\n",
      "main getter error\n",
      "<HttpError 403 when requesting https://youtube.googleapis.com/youtube/v3/subscriptions?part=snippet&channelId=UCP_xYiAKfXb29oobdthFl5g&alt=json returned \"The request cannot be completed because you have exceeded your <a href=\"/youtube/v3/getting-started#quota\">quota</a>.\". Details: \"[{'message': 'The request cannot be completed because you have exceeded your <a href=\"/youtube/v3/getting-started#quota\">quota</a>.', 'domain': 'youtube.quota', 'reason': 'quotaExceeded'}]\">\n",
      "stopped at 419\n",
      "Saved: competitor_primeagen_commenters_subscriptions_419_418.csv\n",
      "total combined Uniques: 114 / 3981\n"
     ]
    },
    {
     "ename": "IndexError",
     "evalue": "index -1 is out of bounds for axis 0 with size 0",
     "output_type": "error",
     "traceback": [
      "\u001b[0;31m---------------------------------------------------------------------------\u001b[0m",
      "\u001b[0;31mIndexError\u001b[0m                                Traceback (most recent call last)",
      "\u001b[0;32m/var/folders/w2/8h1csx0918l44bk67qghq0180000gn/T/ipykernel_80108/1603477733.py\u001b[0m in \u001b[0;36m<module>\u001b[0;34m\u001b[0m\n\u001b[1;32m     88\u001b[0m \u001b[0;34m\u001b[0m\u001b[0m\n\u001b[1;32m     89\u001b[0m \u001b[0;31m# start=last_user #set up start for next time around\u001b[0m\u001b[0;34m\u001b[0m\u001b[0;34m\u001b[0m\u001b[0;34m\u001b[0m\u001b[0m\n\u001b[0;32m---> 90\u001b[0;31m \u001b[0mlast_unique_scId\u001b[0m \u001b[0;34m=\u001b[0m \u001b[0mdf\u001b[0m\u001b[0;34m.\u001b[0m\u001b[0mloc\u001b[0m\u001b[0;34m[\u001b[0m\u001b[0mdf\u001b[0m\u001b[0;34m.\u001b[0m\u001b[0mindex\u001b[0m\u001b[0;34m[\u001b[0m\u001b[0;34m-\u001b[0m\u001b[0;36m1\u001b[0m\u001b[0;34m]\u001b[0m\u001b[0;34m,\u001b[0m\u001b[0;34m'sub_channelId'\u001b[0m\u001b[0;34m]\u001b[0m\u001b[0;34m\u001b[0m\u001b[0;34m\u001b[0m\u001b[0m\n\u001b[0m\u001b[1;32m     91\u001b[0m \u001b[0mlast_Id_idx\u001b[0m \u001b[0;34m=\u001b[0m \u001b[0mlist\u001b[0m\u001b[0;34m(\u001b[0m\u001b[0mchan_ids\u001b[0m\u001b[0;34m)\u001b[0m\u001b[0;34m.\u001b[0m\u001b[0mindex\u001b[0m\u001b[0;34m(\u001b[0m\u001b[0mlast_unique_scId\u001b[0m\u001b[0;34m)\u001b[0m\u001b[0;34m\u001b[0m\u001b[0;34m\u001b[0m\u001b[0m\n\u001b[1;32m     92\u001b[0m \u001b[0;34m\u001b[0m\u001b[0m\n",
      "\u001b[0;32m/opt/anaconda3/envs/myenv/lib/python3.8/site-packages/pandas/core/indexes/base.py\u001b[0m in \u001b[0;36m__getitem__\u001b[0;34m(self, key)\u001b[0m\n\u001b[1;32m   4602\u001b[0m         \u001b[0;32mif\u001b[0m \u001b[0mis_scalar\u001b[0m\u001b[0;34m(\u001b[0m\u001b[0mkey\u001b[0m\u001b[0;34m)\u001b[0m\u001b[0;34m:\u001b[0m\u001b[0;34m\u001b[0m\u001b[0;34m\u001b[0m\u001b[0m\n\u001b[1;32m   4603\u001b[0m             \u001b[0mkey\u001b[0m \u001b[0;34m=\u001b[0m \u001b[0mcom\u001b[0m\u001b[0;34m.\u001b[0m\u001b[0mcast_scalar_indexer\u001b[0m\u001b[0;34m(\u001b[0m\u001b[0mkey\u001b[0m\u001b[0;34m,\u001b[0m \u001b[0mwarn_float\u001b[0m\u001b[0;34m=\u001b[0m\u001b[0;32mTrue\u001b[0m\u001b[0;34m)\u001b[0m\u001b[0;34m\u001b[0m\u001b[0;34m\u001b[0m\u001b[0m\n\u001b[0;32m-> 4604\u001b[0;31m             \u001b[0;32mreturn\u001b[0m \u001b[0mgetitem\u001b[0m\u001b[0;34m(\u001b[0m\u001b[0mkey\u001b[0m\u001b[0;34m)\u001b[0m\u001b[0;34m\u001b[0m\u001b[0;34m\u001b[0m\u001b[0m\n\u001b[0m\u001b[1;32m   4605\u001b[0m \u001b[0;34m\u001b[0m\u001b[0m\n\u001b[1;32m   4606\u001b[0m         \u001b[0;32mif\u001b[0m \u001b[0misinstance\u001b[0m\u001b[0;34m(\u001b[0m\u001b[0mkey\u001b[0m\u001b[0;34m,\u001b[0m \u001b[0mslice\u001b[0m\u001b[0;34m)\u001b[0m\u001b[0;34m:\u001b[0m\u001b[0;34m\u001b[0m\u001b[0;34m\u001b[0m\u001b[0m\n",
      "\u001b[0;31mIndexError\u001b[0m: index -1 is out of bounds for axis 0 with size 0"
     ]
    }
   ],
   "source": [
    "#main\n",
    "\n",
    "exceptions_count=0\n",
    "start_orig = start\n",
    "dfo = pd.read_csv(comments_csv,low_memory=False)\n",
    "\n",
    "dfo = dfo.loc[dfo.response_kind!='youtube#video']\n",
    "dfo = dfo.reset_index(drop=True)\n",
    "\n",
    "chan_ids = dfo.authorChannelId.unique() # create chan_ids from imported df for all youtube scraping:\n",
    "# chan_ids = chan_ids[1:]  #this used to be necessary ,but now you've cleaned up dfo before so you don't need it\n",
    "\n",
    "df = pd.DataFrame()\n",
    "\n",
    "# \n",
    "\n",
    "# goal = start + (len(chan_ids)-start)\n",
    "\n",
    "#########Grab everything using this function\n",
    "# df, last_user,exceptions_count = main_getter(df,chan_ids=chan_ids,start=start,exceptions_count=exceptions_count)\n",
    "\n",
    "for channelId in chan_ids[start:goal]:\n",
    "    attempting = goal - start\n",
    "    current_chan_idx = list(chan_ids).index(channelId)\n",
    "    total_overall = len(chan_ids)\n",
    "    try:        \n",
    "        response ,request, youtube = get_subcomms_subscriptions_first_response(channelId)\n",
    "        #turn first response to df\n",
    "        df = get_subscriber_ids(df,response)\n",
    "        print('df length: ' + str(len(df)))\n",
    "        \n",
    "        df,request,response = get_subs_pagination(df=df,response=response ,request=request, youtube=youtube)\n",
    "        last_unique_scId = df.loc[df.index[-1],'sub_channelId']\n",
    "        user_count = df.sub_channelId.nunique()\n",
    "        last_Id_idx = list(chan_ids).index(last_unique_scId)\n",
    "        \n",
    "        #tracker to make sure its doing what it says\n",
    "        print(f'users collected this round: {user_count} / error ct: {exceptions_count} / attempting this round: {attempting}')\n",
    "        print(f'start: {start} / at: {current_chan_idx} / goal: {goal} / All Possible Commenters: {total_overall}')\n",
    "    \n",
    "    except Exception as e: \n",
    "        last_error = str(e)\n",
    "        \n",
    "        #tracker to make sure its doing what it says\n",
    "        print(f'users collected this round: {user_count} / error ct: {exceptions_count} / attempting this round: {attempting}')\n",
    "        print(f'start: {start} / at: {current_chan_idx} / goal: {goal} / All Possible Commenters: {total_overall}')\n",
    "\n",
    "        exceptions_count +=1\n",
    "        print('main getter error')\n",
    "        if 'not allowed to access the requested subscriptions' not in last_error:\n",
    "            print(e)\n",
    "        elif 'not allowed to access the requested subscriptions' in last_error:\n",
    "            print('not allowed to access the requested subscriptions')\n",
    "        \n",
    "        \n",
    "        if 'The request cannot be completed because you have exceeded your' in last_error:\n",
    "            print(f'stopped at {current_chan_idx}')\n",
    "            break\n",
    "        \n",
    "        pass\n",
    "    \n",
    "last_user = last_Id_idx #create last user variable to use for name\n",
    "\n",
    "\n",
    "###\n",
    "# last user should instead be last_Id_idx\n",
    "\n",
    "###\n",
    "df.to_csv(f'competitor_{cnname}_commenters_subscricptions_{start}_{last_user}.csv',index=False) # save as csv\n",
    "print(f'Saved: competitor_{cnname}_commenters_subscriptions_{start}_{last_user}.csv') \n",
    "\n",
    "\n",
    "#create path object and filename to read/save to.\n",
    "this_path = Path('/Users/davidramsey/Documents/coding/youtube_scraping/strata')\n",
    "filename = f'all_{cnname}_coms_combined.csv'\n",
    "\n",
    "if os.path.exists(this_path/filename):\n",
    "    dfall = pd.read_csv(f'all_{cnname}_coms_combined.csv',low_memory=False) #load combined csv\n",
    "    dfall = pd.concat([dfall,df]) # concat to new df\n",
    "else:\n",
    "    dfall = df\n",
    "\n",
    "# dfall=df\n",
    "dfall = dfall.drop_duplicates() #drop allo= duplicates\n",
    "\n",
    "# save newly combined and print the number of unique users\n",
    "dfall.to_csv(f'all_{cnname}_coms_combined.csv',index=False) ;print('total combined Uniques: '+ str(dfall.sub_channelId.nunique() )+' / '+ str(dfo.authorChannelId.nunique())) \n",
    "\n",
    "# start=last_user #set up start for next time around\n",
    "last_unique_scId = df.loc[df.index[-1],'sub_channelId']\n",
    "last_Id_idx = list(chan_ids).index(last_unique_scId)\n",
    "\n",
    "\n",
    "\n",
    "# time.sleep(120)\n",
    "\n",
    "users_attempted = goal-start\n",
    "users_pulled = df.sub_channelId.nunique()\n",
    "print(f'start = {start}'+' / '+ str(dfo.authorChannelId.nunique()))\n",
    "print(f'users attmepted: {users_attempted} / users pulled {users_pulled} / exeptions this round: {exceptions_count}' )\n",
    "\n",
    "start = last_Id_idx +1 #change the start for next time\n",
    "\n",
    "df.tail(3)"
   ]
  },
  {
   "cell_type": "code",
   "execution_count": null,
   "metadata": {},
   "outputs": [],
   "source": []
  }
 ],
 "metadata": {
  "interpreter": {
   "hash": "e47b1a34c05c1e3b83a62d7885c9d1b5ef8a0522d3be0182d0a008ec409b2b3d"
  },
  "kernelspec": {
   "display_name": "Python 3.8.11 ('myenv')",
   "language": "python",
   "name": "python3"
  },
  "language_info": {
   "codemirror_mode": {
    "name": "ipython",
    "version": 3
   },
   "file_extension": ".py",
   "mimetype": "text/x-python",
   "name": "python",
   "nbconvert_exporter": "python",
   "pygments_lexer": "ipython3",
   "version": "3.8.11"
  },
  "orig_nbformat": 4
 },
 "nbformat": 4,
 "nbformat_minor": 2
}
