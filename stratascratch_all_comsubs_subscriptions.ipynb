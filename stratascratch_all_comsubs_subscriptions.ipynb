{
 "cells": [
  {
   "cell_type": "markdown",
   "metadata": {},
   "source": [
    "# Get StrataScratch Subscribers with .subscribers() Youtube API"
   ]
  },
  {
   "cell_type": "code",
   "execution_count": null,
   "metadata": {},
   "outputs": [],
   "source": [
    "!pip install google-auth\n",
    "!pip install google-auth-oauthlib"
   ]
  },
  {
   "cell_type": "code",
   "execution_count": 2,
   "metadata": {},
   "outputs": [],
   "source": [
    "import pandas as pd\n",
    "import os\n",
    "import pickle\n",
    "import time\n",
    "from google_auth_oauthlib.flow import InstalledAppFlow\n",
    "from google.auth.transport.requests import Request\n",
    "\n",
    "import googleapiclient.discovery\n",
    "import googleapiclient.errors"
   ]
  },
  {
   "cell_type": "markdown",
   "metadata": {},
   "source": [
    "load credentials"
   ]
  },
  {
   "cell_type": "code",
   "execution_count": 3,
   "metadata": {
    "collapsed": true
   },
   "outputs": [
    {
     "name": "stdout",
     "output_type": "stream",
     "text": [
      "Loading Credentials From File...\n",
      "Refreshing Access Token...\n"
     ]
    }
   ],
   "source": [
    "credentials = None\n",
    "\n",
    "# token.pickle stores the user's credentials from previously successful logins\n",
    "if os.path.exists('token.pickle'):\n",
    "    print('Loading Credentials From File...')\n",
    "    with open('token.pickle', 'rb') as token:\n",
    "        credentials = pickle.load(token)\n",
    "\n",
    "# Google's Request\n",
    "from google.auth.transport.requests import Request\n",
    "\n",
    "# If there are no valid credentials available, then either refresh the token or log in.\n",
    "if not credentials or not credentials.valid:\n",
    "    if credentials and credentials.expired and credentials.refresh_token:\n",
    "        print('Refreshing Access Token...')\n",
    "        credentials.refresh(Request())\n",
    "    else:\n",
    "        print('Fetching New Tokens...')\n",
    "        flow = InstalledAppFlow.from_client_secrets_file(\n",
    "            'client_secrets.json',\n",
    "            scopes=[\n",
    "                'https://www.googleapis.com/auth/youtube.readonly'\n",
    "            ]\n",
    "        )\n",
    "\n",
    "        flow.run_local_server(port=8080, prompt='consent')#,authorization_prompt_message='')\n",
    "        credentials = flow.credentials\n",
    "\n",
    "        # Save the credentials for the next run\n",
    "        with open('token.pickle', 'wb') as f:\n",
    "            print('Saving Credentials for Future Use...')\n",
    "            pickle.dump(credentials, f)"
   ]
  },
  {
   "cell_type": "code",
   "execution_count": 4,
   "metadata": {},
   "outputs": [],
   "source": [
    "#Get first response for sub/comms subscriptions that are allowed:\n",
    "def get_subcomms_subscriptions_first_response(channelId):\n",
    "        api_service_name = \"youtube\"\n",
    "        api_version = \"v3\"\n",
    "\n",
    "        youtube = googleapiclient.discovery.build(api_service_name, api_version, credentials=credentials)\n",
    "        request = youtube.subscriptions().list(part=\"snippet\",channelId=channelId)\n",
    "        # request = youtube.subscriptions().list(part=\"snippet,contentDetails\",pageToken='CLYHEAE', maxResults=maxResults,mySubscribers=True)\n",
    "        response = request.execute()\n",
    "        return response, request, youtube"
   ]
  },
  {
   "cell_type": "code",
   "execution_count": 5,
   "metadata": {},
   "outputs": [],
   "source": [
    "def get_subscriber_ids(df,response):\n",
    "    for sub in response['items']:\n",
    "        if sub['kind'] == 'youtube#subscription': \n",
    "            \n",
    "            response_kind =sub['kind']\n",
    "            publishedAt=sub['snippet']['publishedAt']\n",
    "            channel_title =sub['snippet']['title']\n",
    "            channel_description =sub['snippet']['description']\n",
    "            channelId = sub['snippet']['resourceId']['channelId']\n",
    "            sub_channelId = sub['snippet']['channelId']        \n",
    "\n",
    "            try:\n",
    "                if response['nextPageToken'] != None:\n",
    "                    pageToken = response['nextPageToken']\n",
    "                    df = df.append({'response_kind': response_kind, 'publishedAt':publishedAt, 'channel_title':channel_title,'channel_description':channel_description,'channelId':channelId,'sub_channelId':sub_channelId,'pageToken':pageToken},ignore_index=True)    \n",
    "            except:\n",
    "                #save data in pandas df\n",
    "                df = df.append({'response_kind': response_kind, 'publishedAt':publishedAt, 'channel_title':channel_title,'channelId':channelId,'sub_channelId':sub_channelId,'pageToken':'none'},ignore_index=True)\n",
    "    \n",
    "    return df"
   ]
  },
  {
   "cell_type": "code",
   "execution_count": 6,
   "metadata": {},
   "outputs": [],
   "source": [
    "def get_subs_pagination(df,request,response,youtube):\n",
    "    while 1:\n",
    "        try:\n",
    "            request = youtube.subscriptions().list_next(previous_request=request, previous_response=response)\n",
    "            response = request.execute()\n",
    "            df = get_subscriber_ids(df,response)\n",
    "        \n",
    "        except:\n",
    "            break\n",
    "            \n",
    "    \n",
    "    return df,request,response"
   ]
  },
  {
   "cell_type": "code",
   "execution_count": 71,
   "metadata": {},
   "outputs": [],
   "source": [
    "def main_getter(df,chan_ids,start):  #this uses all other functions to get all subscriptions\n",
    "    for channelId in chan_ids[start:goal]:\n",
    "\n",
    "        try:        \n",
    "            response ,request, youtube = get_subcomms_subscriptions_first_response(channelId)\n",
    "            #turn first response to df\n",
    "            df = get_subscriber_ids(df,response)\n",
    "            print('df length: ' + str(len(df)))\n",
    "\n",
    "            df,request,response = get_subs_pagination(df=df,response=response ,request=request, youtube=youtube)\n",
    "            print(\"user count: \" +str(df.sub_channelId.nunique()))\n",
    "        except:\n",
    "            pass\n",
    "        \n",
    "    last_user = df.sub_channelId.nunique() + start #create last user variable to use for name\n",
    "    return df, last_user"
   ]
  },
  {
   "cell_type": "code",
   "execution_count": 61,
   "metadata": {},
   "outputs": [],
   "source": [
    "def main_getter(df,dfall,chan_ids,start):  #this uses all other functions to get all subscriptions\n",
    "    duplicates = 0\n",
    "    completed = dfall.sub_channelId.unique() \n",
    "    for channelId in chan_ids[start:goal]:\n",
    "            \n",
    "        if channelId in completed:\n",
    "            duplicates =duplicates + 1\n",
    "            if duplicates % 15 ==1:\n",
    "                print('avoided duplicate')\n",
    "            \n",
    "            pass\n",
    "        else:\n",
    "\n",
    "\n",
    "            try:        \n",
    "                response ,request, youtube = get_subcomms_subscriptions_first_response(channelId)\n",
    "                #turn first response to df\n",
    "                df = get_subscriber_ids(df,response)\n",
    "                if len(df) % 15 == 1:\n",
    "                    print('df length: ' + str(len(df)))\n",
    "\n",
    "                df,request,response = get_subs_pagination(df=df,response=response ,request=request, youtube=youtube)\n",
    "                if len(df.sub_channelId.nunique()) % 15 == 1:\n",
    "                    print(\"user count: \" +str(df.sub_channelId.nunique()))\n",
    "            except:\n",
    "                pass\n",
    "    \n",
    "    return df, duplicates"
   ]
  },
  {
   "cell_type": "code",
   "execution_count": 30,
   "metadata": {},
   "outputs": [
    {
     "data": {
      "text/plain": [
       "631"
      ]
     },
     "execution_count": 30,
     "metadata": {},
     "output_type": "execute_result"
    }
   ],
   "source": [
    "start"
   ]
  },
  {
   "cell_type": "code",
   "execution_count": 46,
   "metadata": {},
   "outputs": [
    {
     "data": {
      "text/plain": [
       "695"
      ]
     },
     "execution_count": 46,
     "metadata": {},
     "output_type": "execute_result"
    }
   ],
   "source": [
    "start"
   ]
  },
  {
   "cell_type": "markdown",
   "metadata": {},
   "source": [
    "## Main"
   ]
  },
  {
   "cell_type": "code",
   "execution_count": 9,
   "metadata": {},
   "outputs": [
    {
     "name": "stdout",
     "output_type": "stream",
     "text": [
      "631\n"
     ]
    }
   ],
   "source": [
    "# start=631\n",
    "# print(start)"
   ]
  },
  {
   "cell_type": "code",
   "execution_count": 44,
   "metadata": {},
   "outputs": [
    {
     "data": {
      "text/plain": [
       "1695"
      ]
     },
     "execution_count": 44,
     "metadata": {},
     "output_type": "execute_result"
    }
   ],
   "source": [
    "goal"
   ]
  },
  {
   "cell_type": "code",
   "execution_count": 72,
   "metadata": {},
   "outputs": [],
   "source": [
    "# create chan_ids from imported df for all youtube scraping:\n",
    "dfo = pd.read_csv('all_sqlbelle_youtube_comments_4200rows.csv',low_memory=False)\n",
    "chan_ids = dfo.authorChannelId.unique()\n",
    "chan_ids = chan_ids[1:]"
   ]
  },
  {
   "cell_type": "code",
   "execution_count": 90,
   "metadata": {},
   "outputs": [
    {
     "data": {
      "text/plain": [
       "1126"
      ]
     },
     "execution_count": 90,
     "metadata": {},
     "output_type": "execute_result"
    }
   ],
   "source": [
    "#save start as just following the last unique sub_channelId\n",
    "last_unique_scId = df.loc[df.index[-1],'sub_channelId']\n",
    "last_Id_idx = list(chan_ids).index(last_unique_scId)\n",
    "start = last_Id_idx +1;start"
   ]
  },
  {
   "cell_type": "code",
   "execution_count": 91,
   "metadata": {},
   "outputs": [
    {
     "ename": "AttributeError",
     "evalue": "'DataFrame' object has no attribute 'sub_channelId'",
     "output_type": "error",
     "traceback": [
      "\u001b[0;31m---------------------------------------------------------------------------\u001b[0m",
      "\u001b[0;31mAttributeError\u001b[0m                            Traceback (most recent call last)",
      "\u001b[0;32m/var/folders/w2/8h1csx0918l44bk67qghq0180000gn/T/ipykernel_71295/1125712178.py\u001b[0m in \u001b[0;36m<module>\u001b[0;34m\u001b[0m\n\u001b[1;32m     11\u001b[0m \u001b[0;34m\u001b[0m\u001b[0m\n\u001b[1;32m     12\u001b[0m \u001b[0;31m#########Grab everything using this function\u001b[0m\u001b[0;34m\u001b[0m\u001b[0;34m\u001b[0m\u001b[0;34m\u001b[0m\u001b[0m\n\u001b[0;32m---> 13\u001b[0;31m \u001b[0mdf\u001b[0m\u001b[0;34m,\u001b[0m \u001b[0mlast_user\u001b[0m \u001b[0;34m=\u001b[0m \u001b[0mmain_getter\u001b[0m\u001b[0;34m(\u001b[0m\u001b[0mdf\u001b[0m\u001b[0;34m,\u001b[0m\u001b[0mchan_ids\u001b[0m\u001b[0;34m=\u001b[0m\u001b[0mchan_ids\u001b[0m\u001b[0;34m,\u001b[0m\u001b[0mstart\u001b[0m\u001b[0;34m=\u001b[0m\u001b[0mstart\u001b[0m\u001b[0;34m)\u001b[0m\u001b[0;34m\u001b[0m\u001b[0;34m\u001b[0m\u001b[0m\n\u001b[0m\u001b[1;32m     14\u001b[0m \u001b[0;34m\u001b[0m\u001b[0m\n\u001b[1;32m     15\u001b[0m \u001b[0;34m\u001b[0m\u001b[0m\n",
      "\u001b[0;32m/var/folders/w2/8h1csx0918l44bk67qghq0180000gn/T/ipykernel_71295/26183290.py\u001b[0m in \u001b[0;36mmain_getter\u001b[0;34m(df, chan_ids, start)\u001b[0m\n\u001b[1;32m     13\u001b[0m             \u001b[0;32mpass\u001b[0m\u001b[0;34m\u001b[0m\u001b[0;34m\u001b[0m\u001b[0m\n\u001b[1;32m     14\u001b[0m \u001b[0;34m\u001b[0m\u001b[0m\n\u001b[0;32m---> 15\u001b[0;31m     \u001b[0mlast_user\u001b[0m \u001b[0;34m=\u001b[0m \u001b[0mdf\u001b[0m\u001b[0;34m.\u001b[0m\u001b[0msub_channelId\u001b[0m\u001b[0;34m.\u001b[0m\u001b[0mnunique\u001b[0m\u001b[0;34m(\u001b[0m\u001b[0;34m)\u001b[0m \u001b[0;34m+\u001b[0m \u001b[0mstart\u001b[0m \u001b[0;31m#create last user variable to use for name\u001b[0m\u001b[0;34m\u001b[0m\u001b[0;34m\u001b[0m\u001b[0m\n\u001b[0m\u001b[1;32m     16\u001b[0m     \u001b[0;32mreturn\u001b[0m \u001b[0mdf\u001b[0m\u001b[0;34m,\u001b[0m \u001b[0mlast_user\u001b[0m\u001b[0;34m\u001b[0m\u001b[0;34m\u001b[0m\u001b[0m\n",
      "\u001b[0;32m/opt/anaconda3/envs/myenv/lib/python3.8/site-packages/pandas/core/generic.py\u001b[0m in \u001b[0;36m__getattr__\u001b[0;34m(self, name)\u001b[0m\n\u001b[1;32m   5485\u001b[0m         ):\n\u001b[1;32m   5486\u001b[0m             \u001b[0;32mreturn\u001b[0m \u001b[0mself\u001b[0m\u001b[0;34m[\u001b[0m\u001b[0mname\u001b[0m\u001b[0;34m]\u001b[0m\u001b[0;34m\u001b[0m\u001b[0;34m\u001b[0m\u001b[0m\n\u001b[0;32m-> 5487\u001b[0;31m         \u001b[0;32mreturn\u001b[0m \u001b[0mobject\u001b[0m\u001b[0;34m.\u001b[0m\u001b[0m__getattribute__\u001b[0m\u001b[0;34m(\u001b[0m\u001b[0mself\u001b[0m\u001b[0;34m,\u001b[0m \u001b[0mname\u001b[0m\u001b[0;34m)\u001b[0m\u001b[0;34m\u001b[0m\u001b[0;34m\u001b[0m\u001b[0m\n\u001b[0m\u001b[1;32m   5488\u001b[0m \u001b[0;34m\u001b[0m\u001b[0m\n\u001b[1;32m   5489\u001b[0m     \u001b[0;32mdef\u001b[0m \u001b[0m__setattr__\u001b[0m\u001b[0;34m(\u001b[0m\u001b[0mself\u001b[0m\u001b[0;34m,\u001b[0m \u001b[0mname\u001b[0m\u001b[0;34m:\u001b[0m \u001b[0mstr\u001b[0m\u001b[0;34m,\u001b[0m \u001b[0mvalue\u001b[0m\u001b[0;34m)\u001b[0m \u001b[0;34m->\u001b[0m \u001b[0;32mNone\u001b[0m\u001b[0;34m:\u001b[0m\u001b[0;34m\u001b[0m\u001b[0;34m\u001b[0m\u001b[0m\n",
      "\u001b[0;31mAttributeError\u001b[0m: 'DataFrame' object has no attribute 'sub_channelId'"
     ]
    }
   ],
   "source": [
    "#main\n",
    "\n",
    "df = pd.DataFrame()\n",
    "# goal = start +300\n",
    "\n",
    "goal = start + 600\n",
    "\n",
    "# dfo = pd.read_csv('strata_unique_commenters_with_1k_of_subscribers.csv',low_memory=False)\n",
    "# df_combo = pd.read_csv('all_ss_comsubs_combined.csv',low_memory=False)\n",
    "\n",
    "\n",
    "#########Grab everything using this function\n",
    "df, last_user = main_getter(df,chan_ids=chan_ids,start=start)\n",
    "\n",
    "\n",
    "# df.to_csv(f'all_ss_comsubs_subscriptions_{start}_{last_user}.csv',index=False) # save as csv\n",
    "# print(f'Saved: all_ss_comsubs_subscriptions_{start}_{last_user}.csv') \n",
    "df.to_csv(f'competitor_sqlbelle_commenters_subscriptions_{start}_{last_user}.csv',index=False) # save as csv\n",
    "print(f'Saved: competitor_sqlbelle_commenters_subscriptions_{start}_{last_user}.csv') \n",
    "\n",
    "# dfall = pd.read_csv('all_ss_comsubs_combined.csv',low_memory=False) #load combined csv\n",
    "# dfall = pd.concat([dfall,df]) # concat to new df\n",
    "\n",
    "# dfall = df\n",
    "dfall = pd.read_csv('all_sqlbelle_coms_combined.csv',low_memory=False) #load combined csv\n",
    "dfall = pd.concat([dfall,df]) # concat to new df\n",
    "dfall = dfall.drop_duplicates() #drop allo= duplicates\n",
    "\n",
    "# save newly combined and print the number of unique users\n",
    "# dfall.to_csv('all_ss_comsubs_combined.csv',index=False) ;print(f'total combined Uniques: '+ str(dfall.sub_channelId.nunique())) \n",
    "dfall.to_csv('all_sqlbelle_coms_combined.csv',index=False) ;print('total combined Uniques: '+ str(dfall.sub_channelId.nunique() )+' / '+ str(dfo.authorChannelId.nunique())) \n",
    "\n",
    "\n",
    "# start=last_user #set up start for next time around\n",
    "last_unique_scId = df.loc[df.index[-1],'sub_channelId']\n",
    "last_Id_idx = list(chan_ids).index(last_unique_scId)\n",
    "start = last_Id_idx +1\n",
    "\n",
    "time.sleep(120)\n",
    "\n",
    "print(f'start = {start}'+' / '+ str(dfo.authorChannelId.nunique()))\n",
    "df.tail(3)"
   ]
  }
 ],
 "metadata": {
  "interpreter": {
   "hash": "e47b1a34c05c1e3b83a62d7885c9d1b5ef8a0522d3be0182d0a008ec409b2b3d"
  },
  "kernelspec": {
   "display_name": "Python 3.8.11 ('myenv')",
   "language": "python",
   "name": "python3"
  },
  "language_info": {
   "codemirror_mode": {
    "name": "ipython",
    "version": 3
   },
   "file_extension": ".py",
   "mimetype": "text/x-python",
   "name": "python",
   "nbconvert_exporter": "python",
   "pygments_lexer": "ipython3",
   "version": "3.8.11"
  },
  "orig_nbformat": 4
 },
 "nbformat": 4,
 "nbformat_minor": 2
}
