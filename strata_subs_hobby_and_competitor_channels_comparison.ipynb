{
 "cells": [
  {
   "cell_type": "code",
   "execution_count": 97,
   "metadata": {},
   "outputs": [],
   "source": [
    "# #hide\n",
    "# !pip install -Uqq fastbook kaggle waterfallcharts treeinterpreter dtreeviz\n",
    "# import fastbook\n",
    "# fastbook.setup_book()"
   ]
  },
  {
   "cell_type": "code",
   "execution_count": 90,
   "metadata": {},
   "outputs": [],
   "source": [
    "from fastbook import *\n",
    "# from kaggle import api\n",
    "from pandas.api.types import is_string_dtype, is_numeric_dtype, is_categorical_dtype\n",
    "from fastai.tabular.all import *\n",
    "# from sklearn.ensemble import RandomForestRegressor\n",
    "# from sklearn.tree import DecisionTreeRegressor\n",
    "# from dtreeviz.trees import *\n",
    "from IPython.display import Image, display_svg, SVG\n",
    "\n",
    "pd.options.display.max_rows = 20\n",
    "pd.options.display.max_columns = 8"
   ]
  },
  {
   "cell_type": "markdown",
   "metadata": {},
   "source": [
    "### Look at the Data"
   ]
  },
  {
   "cell_type": "code",
   "execution_count": 1,
   "metadata": {},
   "outputs": [],
   "source": [
    "import pandas as pd"
   ]
  },
  {
   "cell_type": "code",
   "execution_count": 61,
   "metadata": {},
   "outputs": [],
   "source": [
    "# df = pd.read_csv(path/'TrainAndValid.csv', low_memory=False)\n",
    "df = pd.read_csv('/notebooks/strata/channel_infos_for_mock_up_696_better.csv', low_memory=False)\n",
    "df = add_datepart(df,'c_published')"
   ]
  },
  {
   "cell_type": "code",
   "execution_count": 120,
   "metadata": {},
   "outputs": [],
   "source": [
    "favcols = ['c_title','c_subCount', 'c_country','c_publishedYear', 'c_vidCount', 'c_views','c_topicCats','c_desc']"
   ]
  },
  {
   "cell_type": "code",
   "execution_count": 123,
   "metadata": {},
   "outputs": [
    {
     "data": {
      "text/html": [
       "<div>\n",
       "<style scoped>\n",
       "    .dataframe tbody tr th:only-of-type {\n",
       "        vertical-align: middle;\n",
       "    }\n",
       "\n",
       "    .dataframe tbody tr th {\n",
       "        vertical-align: top;\n",
       "    }\n",
       "\n",
       "    .dataframe thead th {\n",
       "        text-align: right;\n",
       "    }\n",
       "</style>\n",
       "<table border=\"1\" class=\"dataframe\">\n",
       "  <thead>\n",
       "    <tr style=\"text-align: right;\">\n",
       "      <th></th>\n",
       "      <th>c_title</th>\n",
       "      <th>c_subCount</th>\n",
       "      <th>c_country</th>\n",
       "      <th>c_publishedYear</th>\n",
       "      <th>c_vidCount</th>\n",
       "      <th>c_views</th>\n",
       "      <th>c_topicCats</th>\n",
       "      <th>c_desc</th>\n",
       "    </tr>\n",
       "  </thead>\n",
       "  <tbody>\n",
       "    <tr>\n",
       "      <th>0</th>\n",
       "      <td>StrataScratch</td>\n",
       "      <td>27400</td>\n",
       "      <td>US</td>\n",
       "      <td>2019</td>\n",
       "      <td>86</td>\n",
       "      <td>827375</td>\n",
       "      <td>['https://en.wikipedia.org/wiki/Technology', 'https://en.wikipedia.org/wiki/Lifestyle_(sociology)', 'https://en.wikipedia.org/wiki/Knowledge']</td>\n",
       "      <td>Thanks for checking out our channel! This channel is for people beginning their careers, that are trying to learn solid fundamentals, establish themselves on the job, or get a data science job.\\n\\nWe cover a wide range of data science technical concepts like SQL, python, modeling, statistics, probability, business cases, etc. Our team is comprised of data scientists with years of industry experience eager to help you ace your next interview or simply improve your technical skills.\\n\\nIf you want hands-on technical experience, check out a platform I created, StrataScratch (www.stratascratch...</td>\n",
       "    </tr>\n",
       "    <tr>\n",
       "      <th>1</th>\n",
       "      <td>freeCodeCamp.org</td>\n",
       "      <td>5430000</td>\n",
       "      <td>US</td>\n",
       "      <td>2014</td>\n",
       "      <td>1296</td>\n",
       "      <td>340032834</td>\n",
       "      <td>['https://en.wikipedia.org/wiki/Technology', 'https://en.wikipedia.org/wiki/Lifestyle_(sociology)', 'https://en.wikipedia.org/wiki/Knowledge']</td>\n",
       "      <td>Learn to code for free.</td>\n",
       "    </tr>\n",
       "    <tr>\n",
       "      <th>2</th>\n",
       "      <td>3Blue1Brown</td>\n",
       "      <td>4480000</td>\n",
       "      <td>US</td>\n",
       "      <td>2015</td>\n",
       "      <td>121</td>\n",
       "      <td>277860316</td>\n",
       "      <td>['https://en.wikipedia.org/wiki/Knowledge']</td>\n",
       "      <td>3Blue1Brown, by Grant Sanderson, is some combination of math and entertainment, depending on your disposition. The goal is for explanations to be driven by animations and for difficult problems to be made simple with changes in perspective.\\n\\nFor more information, other projects, FAQs, and inquiries see the website: https://www.3blue1brown.com</td>\n",
       "    </tr>\n",
       "    <tr>\n",
       "      <th>3</th>\n",
       "      <td>StatQuest with Josh Starmer</td>\n",
       "      <td>707000</td>\n",
       "      <td>US</td>\n",
       "      <td>2011</td>\n",
       "      <td>217</td>\n",
       "      <td>36234905</td>\n",
       "      <td>['https://en.wikipedia.org/wiki/Knowledge']</td>\n",
       "      <td>Statistics, Machine Learning and Data Science can sometimes seem like very scary topics, but since each technique is really just a combination of small and simple steps, they are actually quite simple. My goal with StatQuest is to break down the major methodologies into easy to understand pieces. That said, I don't dumb down the material. Instead, I build up your understanding so that you are smarter.\\n\\nContact, Video Index, Etc: https://statquest.org</td>\n",
       "    </tr>\n",
       "    <tr>\n",
       "      <th>4</th>\n",
       "      <td>edureka!</td>\n",
       "      <td>3280000</td>\n",
       "      <td>IN</td>\n",
       "      <td>2012</td>\n",
       "      <td>6194</td>\n",
       "      <td>297823564</td>\n",
       "      <td>['https://en.wikipedia.org/wiki/Business', 'https://en.wikipedia.org/wiki/Technology', 'https://en.wikipedia.org/wiki/Lifestyle_(sociology)', 'https://en.wikipedia.org/wiki/Knowledge']</td>\n",
       "      <td>Thank you for Subscribing! If you have not, Subscribe now!\\n\\nWe are a live &amp; interactive e-learning platform with the mission of making learning accessible to everyone. We offer instructor-led courses, along with 24/7 on-demand support to achieve highest course completion rates in the industry! Our real-life projects, 24*7 Support, Personal Learning Managers ensure that your learning goals are met!\\n\\nSpecial offer! Flat 20% Off on All Courses, Use Code \"𝐘𝐎𝐔𝐓𝐔𝐁𝐄𝟐𝟎\"\\n\\nBy subscribing to Edureka Channel, you'll never miss out on high-quality videos, webinars, sample classes &amp; lectures from ...</td>\n",
       "    </tr>\n",
       "    <tr>\n",
       "      <th>...</th>\n",
       "      <td>...</td>\n",
       "      <td>...</td>\n",
       "      <td>...</td>\n",
       "      <td>...</td>\n",
       "      <td>...</td>\n",
       "      <td>...</td>\n",
       "      <td>...</td>\n",
       "      <td>...</td>\n",
       "    </tr>\n",
       "    <tr>\n",
       "      <th>691</th>\n",
       "      <td>Republic World</td>\n",
       "      <td>5280000</td>\n",
       "      <td>IN</td>\n",
       "      <td>2017</td>\n",
       "      <td>65901</td>\n",
       "      <td>1735042860</td>\n",
       "      <td>['https://en.wikipedia.org/wiki/Politics', 'https://en.wikipedia.org/wiki/Society']</td>\n",
       "      <td>Republic is not one man.\\nRepublic is the united might of the people.\\nRepublic will not bow down.\\nRepublic is too loud to be silenced.\\nYou are the Republic.\\nWe are just your voice.\\n\\nOfficial page of India’s only independent news venture. Republic is independent. Republic is global. Republic is your movement. Join us.\\n\\nAlso visit our Website for more news &amp; updates►http://www.republicworld.com/</td>\n",
       "    </tr>\n",
       "    <tr>\n",
       "      <th>692</th>\n",
       "      <td>Sidemen</td>\n",
       "      <td>14600000</td>\n",
       "      <td>GB</td>\n",
       "      <td>2015</td>\n",
       "      <td>247</td>\n",
       "      <td>3757069702</td>\n",
       "      <td>['https://en.wikipedia.org/wiki/Lifestyle_(sociology)', 'https://en.wikipedia.org/wiki/Boxing', 'https://en.wikipedia.org/wiki/Sport']</td>\n",
       "      <td>Welcome to the official Sidemen channel. The home of #SidemenSundays - We post new Sidemen videos every single Sunday!</td>\n",
       "    </tr>\n",
       "    <tr>\n",
       "      <th>693</th>\n",
       "      <td>LOL Network</td>\n",
       "      <td>5030000</td>\n",
       "      <td>US</td>\n",
       "      <td>2009</td>\n",
       "      <td>642</td>\n",
       "      <td>1057954058</td>\n",
       "      <td>['https://en.wikipedia.org/wiki/Humour', 'https://en.wikipedia.org/wiki/Film', 'https://en.wikipedia.org/wiki/Entertainment']</td>\n",
       "      <td>Kevin Hart’s Laugh Out Loud Network YouTube channel is a specially-curated global platform for the NOW generation of comedians and original comedic content. It’s the ultimate destination for fans of funny.\\n \\nSubscribe http://bit.ly/SubscribeLOL for exclusive behind the scenes, live commentary by Kevin Hart, pranks, skits, and everything fun. We’re here to make you LOL. New videos every Tuesday, Friday and sometimes we'll get a little silly on Sunday.\\n \\nSign up for exclusive updates and news about our 24/7 - always on-  streaming comedy network at: https://www.laughoutloud.com/</td>\n",
       "    </tr>\n",
       "    <tr>\n",
       "      <th>694</th>\n",
       "      <td>LockPickingLawyer</td>\n",
       "      <td>3970000</td>\n",
       "      <td>US</td>\n",
       "      <td>2015</td>\n",
       "      <td>1435</td>\n",
       "      <td>941200000</td>\n",
       "      <td>['https://en.wikipedia.org/wiki/Lifestyle_(sociology)']</td>\n",
       "      <td>This channel aims to educate consumers about weaknesses and defects in security devices so they can make better security decisions. It should go without saying, but I’ll say it anyway: do not use any of the information presented in my videos for illegal purposes.\\n\\nMy mailing information is below. Do NOT send anything you want back unless I’ve agreed in advance to do so.\\n\\nLockPickingLawyer \\nP.O. Box 215\\nDamascus, MD 20872\\nUSA\\n\\nPlease note that I do not recommend locks, nor do I provide assistance in opening them. For advice getting started in locksport, I recommend the “University”...</td>\n",
       "    </tr>\n",
       "    <tr>\n",
       "      <th>695</th>\n",
       "      <td>The Graham Stephan Show</td>\n",
       "      <td>827000</td>\n",
       "      <td>US</td>\n",
       "      <td>2013</td>\n",
       "      <td>468</td>\n",
       "      <td>97165173</td>\n",
       "      <td>['https://en.wikipedia.org/wiki/Lifestyle_(sociology)', 'https://en.wikipedia.org/wiki/Society']</td>\n",
       "      <td>Lets talk about more money, business, and finance related topics without worrying about the YouTube algorithm. This channel is meant to be a place where I can upload other random topics that come up, start discussions, and post freely/whenever as things come up. If that sounds good to you, subscribe!</td>\n",
       "    </tr>\n",
       "  </tbody>\n",
       "</table>\n",
       "<p>696 rows × 8 columns</p>\n",
       "</div>"
      ],
      "text/plain": [
       "                         c_title  c_subCount c_country  c_publishedYear  \\\n",
       "0                  StrataScratch       27400        US             2019   \n",
       "1               freeCodeCamp.org     5430000        US             2014   \n",
       "2                    3Blue1Brown     4480000        US             2015   \n",
       "3    StatQuest with Josh Starmer      707000        US             2011   \n",
       "4                       edureka!     3280000        IN             2012   \n",
       "..                           ...         ...       ...              ...   \n",
       "691               Republic World     5280000        IN             2017   \n",
       "692                      Sidemen    14600000        GB             2015   \n",
       "693                  LOL Network     5030000        US             2009   \n",
       "694            LockPickingLawyer     3970000        US             2015   \n",
       "695      The Graham Stephan Show      827000        US             2013   \n",
       "\n",
       "     c_vidCount     c_views  \\\n",
       "0            86      827375   \n",
       "1          1296   340032834   \n",
       "2           121   277860316   \n",
       "3           217    36234905   \n",
       "4          6194   297823564   \n",
       "..          ...         ...   \n",
       "691       65901  1735042860   \n",
       "692         247  3757069702   \n",
       "693         642  1057954058   \n",
       "694        1435   941200000   \n",
       "695         468    97165173   \n",
       "\n",
       "                                                                                                                                                                                  c_topicCats  \\\n",
       "0                                              ['https://en.wikipedia.org/wiki/Technology', 'https://en.wikipedia.org/wiki/Lifestyle_(sociology)', 'https://en.wikipedia.org/wiki/Knowledge']   \n",
       "1                                              ['https://en.wikipedia.org/wiki/Technology', 'https://en.wikipedia.org/wiki/Lifestyle_(sociology)', 'https://en.wikipedia.org/wiki/Knowledge']   \n",
       "2                                                                                                                                                 ['https://en.wikipedia.org/wiki/Knowledge']   \n",
       "3                                                                                                                                                 ['https://en.wikipedia.org/wiki/Knowledge']   \n",
       "4    ['https://en.wikipedia.org/wiki/Business', 'https://en.wikipedia.org/wiki/Technology', 'https://en.wikipedia.org/wiki/Lifestyle_(sociology)', 'https://en.wikipedia.org/wiki/Knowledge']   \n",
       "..                                                                                                                                                                                        ...   \n",
       "691                                                                                                       ['https://en.wikipedia.org/wiki/Politics', 'https://en.wikipedia.org/wiki/Society']   \n",
       "692                                                    ['https://en.wikipedia.org/wiki/Lifestyle_(sociology)', 'https://en.wikipedia.org/wiki/Boxing', 'https://en.wikipedia.org/wiki/Sport']   \n",
       "693                                                             ['https://en.wikipedia.org/wiki/Humour', 'https://en.wikipedia.org/wiki/Film', 'https://en.wikipedia.org/wiki/Entertainment']   \n",
       "694                                                                                                                                   ['https://en.wikipedia.org/wiki/Lifestyle_(sociology)']   \n",
       "695                                                                                          ['https://en.wikipedia.org/wiki/Lifestyle_(sociology)', 'https://en.wikipedia.org/wiki/Society']   \n",
       "\n",
       "                                                                                                                                                                                                                                                                                                                                                                                                                                                                                                                                                                                                                      c_desc  \n",
       "0    Thanks for checking out our channel! This channel is for people beginning their careers, that are trying to learn solid fundamentals, establish themselves on the job, or get a data science job.\\n\\nWe cover a wide range of data science technical concepts like SQL, python, modeling, statistics, probability, business cases, etc. Our team is comprised of data scientists with years of industry experience eager to help you ace your next interview or simply improve your technical skills.\\n\\nIf you want hands-on technical experience, check out a platform I created, StrataScratch (www.stratascratch...  \n",
       "1                                                                                                                                                                                                                                                                                                                                                                                                                                                                                                                                                                                                    Learn to code for free.  \n",
       "2                                                                                                                                                                                                                                                                 3Blue1Brown, by Grant Sanderson, is some combination of math and entertainment, depending on your disposition. The goal is for explanations to be driven by animations and for difficult problems to be made simple with changes in perspective.\\n\\nFor more information, other projects, FAQs, and inquiries see the website: https://www.3blue1brown.com  \n",
       "3                                                                                                                                                   Statistics, Machine Learning and Data Science can sometimes seem like very scary topics, but since each technique is really just a combination of small and simple steps, they are actually quite simple. My goal with StatQuest is to break down the major methodologies into easy to understand pieces. That said, I don't dumb down the material. Instead, I build up your understanding so that you are smarter.\\n\\nContact, Video Index, Etc: https://statquest.org  \n",
       "4    Thank you for Subscribing! If you have not, Subscribe now!\\n\\nWe are a live & interactive e-learning platform with the mission of making learning accessible to everyone. We offer instructor-led courses, along with 24/7 on-demand support to achieve highest course completion rates in the industry! Our real-life projects, 24*7 Support, Personal Learning Managers ensure that your learning goals are met!\\n\\nSpecial offer! Flat 20% Off on All Courses, Use Code \"𝐘𝐎𝐔𝐓𝐔𝐁𝐄𝟐𝟎\"\\n\\nBy subscribing to Edureka Channel, you'll never miss out on high-quality videos, webinars, sample classes & lectures from ...  \n",
       "..                                                                                                                                                                                                                                                                                                                                                                                                                                                                                                                                                                                                                       ...  \n",
       "691                                                                                                                                                                                                     Republic is not one man.\\nRepublic is the united might of the people.\\nRepublic will not bow down.\\nRepublic is too loud to be silenced.\\nYou are the Republic.\\nWe are just your voice.\\n\\nOfficial page of India’s only independent news venture. Republic is independent. Republic is global. Republic is your movement. Join us.\\n\\nAlso visit our Website for more news & updates►http://www.republicworld.com/  \n",
       "692                                                                                                                                                                                                                                                                                                                                                                                                                                                                                                   Welcome to the official Sidemen channel. The home of #SidemenSundays - We post new Sidemen videos every single Sunday!  \n",
       "693              Kevin Hart’s Laugh Out Loud Network YouTube channel is a specially-curated global platform for the NOW generation of comedians and original comedic content. It’s the ultimate destination for fans of funny.\\n \\nSubscribe http://bit.ly/SubscribeLOL for exclusive behind the scenes, live commentary by Kevin Hart, pranks, skits, and everything fun. We’re here to make you LOL. New videos every Tuesday, Friday and sometimes we'll get a little silly on Sunday.\\n \\nSign up for exclusive updates and news about our 24/7 - always on-  streaming comedy network at: https://www.laughoutloud.com/  \n",
       "694  This channel aims to educate consumers about weaknesses and defects in security devices so they can make better security decisions. It should go without saying, but I’ll say it anyway: do not use any of the information presented in my videos for illegal purposes.\\n\\nMy mailing information is below. Do NOT send anything you want back unless I’ve agreed in advance to do so.\\n\\nLockPickingLawyer \\nP.O. Box 215\\nDamascus, MD 20872\\nUSA\\n\\nPlease note that I do not recommend locks, nor do I provide assistance in opening them. For advice getting started in locksport, I recommend the “University”...  \n",
       "695                                                                                                                                                                                                                                                                                                            Lets talk about more money, business, and finance related topics without worrying about the YouTube algorithm. This channel is meant to be a place where I can upload other random topics that come up, start discussions, and post freely/whenever as things come up. If that sounds good to you, subscribe!  \n",
       "\n",
       "[696 rows x 8 columns]"
      ]
     },
     "execution_count": 123,
     "metadata": {},
     "output_type": "execute_result"
    }
   ],
   "source": [
    "df[favcols]"
   ]
  },
  {
   "cell_type": "code",
   "execution_count": 124,
   "metadata": {},
   "outputs": [
    {
     "data": {
      "text/plain": [
       "8"
      ]
     },
     "execution_count": 124,
     "metadata": {},
     "output_type": "execute_result"
    }
   ],
   "source": [
    "\n",
    "len(df.loc[(df.c_subCount < 30000) & (df.c_subCount > 20000)])"
   ]
  },
  {
   "cell_type": "code",
   "execution_count": 126,
   "metadata": {},
   "outputs": [
    {
     "data": {
      "text/plain": [
       "0                             StrataScratch\n",
       "306                           Andreas Kretz\n",
       "389                     Unfold Data Science\n",
       "449                               Greg Hogg\n",
       "514                      John Watson Rooney\n",
       "528                             Tableau Tim\n",
       "568                          Bryan Cafferky\n",
       "646    LearnBI.online (formerly Vitamin BI)\n",
       "Name: c_title, dtype: object"
      ]
     },
     "execution_count": 126,
     "metadata": {},
     "output_type": "execute_result"
    }
   ],
   "source": [
    "# strata subcount is 28.3K -- Lets glance at some of the titles of the channels in that ballpark\n",
    "df.loc[(df.c_subCount < 30000) & (df.c_subCount > 20000)].c_title"
   ]
  },
  {
   "cell_type": "code",
   "execution_count": 127,
   "metadata": {},
   "outputs": [
    {
     "data": {
      "text/plain": [
       "(77278, 187717278118)"
      ]
     },
     "execution_count": 127,
     "metadata": {},
     "output_type": "execute_result"
    }
   ],
   "source": [
    "# what is the views range here\n",
    "df.c_views.min(), df.c_views.max()"
   ]
  },
  {
   "cell_type": "code",
   "execution_count": 130,
   "metadata": {},
   "outputs": [
    {
     "data": {
      "text/html": [
       "<div>\n",
       "<style scoped>\n",
       "    .dataframe tbody tr th:only-of-type {\n",
       "        vertical-align: middle;\n",
       "    }\n",
       "\n",
       "    .dataframe tbody tr th {\n",
       "        vertical-align: top;\n",
       "    }\n",
       "\n",
       "    .dataframe thead th {\n",
       "        text-align: right;\n",
       "    }\n",
       "</style>\n",
       "<table border=\"1\" class=\"dataframe\">\n",
       "  <thead>\n",
       "    <tr style=\"text-align: right;\">\n",
       "      <th></th>\n",
       "      <th>c_title</th>\n",
       "      <th>c_subCount</th>\n",
       "      <th>c_country</th>\n",
       "      <th>c_publishedYear</th>\n",
       "      <th>c_vidCount</th>\n",
       "      <th>c_views</th>\n",
       "      <th>c_topicCats</th>\n",
       "      <th>c_desc</th>\n",
       "    </tr>\n",
       "  </thead>\n",
       "  <tbody>\n",
       "    <tr>\n",
       "      <th>0</th>\n",
       "      <td>StrataScratch</td>\n",
       "      <td>27400</td>\n",
       "      <td>US</td>\n",
       "      <td>2019</td>\n",
       "      <td>86</td>\n",
       "      <td>827375</td>\n",
       "      <td>['https://en.wikipedia.org/wiki/Technology', 'https://en.wikipedia.org/wiki/Lifestyle_(sociology)', 'https://en.wikipedia.org/wiki/Knowledge']</td>\n",
       "      <td>Thanks for checking out our channel! This channel is for people beginning their careers, that are trying to learn solid fundamentals, establish themselves on the job, or get a data science job.\\n\\nWe cover a wide range of data science technical concepts like SQL, python, modeling, statistics, probability, business cases, etc. Our team is comprised of data scientists with years of industry experience eager to help you ace your next interview or simply improve your technical skills.\\n\\nIf you want hands-on technical experience, check out a platform I created, StrataScratch (www.stratascratch...</td>\n",
       "    </tr>\n",
       "  </tbody>\n",
       "</table>\n",
       "</div>"
      ],
      "text/plain": [
       "         c_title  c_subCount c_country  c_publishedYear  c_vidCount  c_views  \\\n",
       "0  StrataScratch       27400        US             2019          86   827375   \n",
       "\n",
       "                                                                                                                                      c_topicCats  \\\n",
       "0  ['https://en.wikipedia.org/wiki/Technology', 'https://en.wikipedia.org/wiki/Lifestyle_(sociology)', 'https://en.wikipedia.org/wiki/Knowledge']   \n",
       "\n",
       "                                                                                                                                                                                                                                                                                                                                                                                                                                                                                                                                                                                                                    c_desc  \n",
       "0  Thanks for checking out our channel! This channel is for people beginning their careers, that are trying to learn solid fundamentals, establish themselves on the job, or get a data science job.\\n\\nWe cover a wide range of data science technical concepts like SQL, python, modeling, statistics, probability, business cases, etc. Our team is comprised of data scientists with years of industry experience eager to help you ace your next interview or simply improve your technical skills.\\n\\nIf you want hands-on technical experience, check out a platform I created, StrataScratch (www.stratascratch...  "
      ]
     },
     "execution_count": 130,
     "metadata": {},
     "output_type": "execute_result"
    }
   ],
   "source": [
    "df[df.c_id =='UCW8Ews7tdKKkBT6GdtQaXvQ'][favcols] # ss"
   ]
  },
  {
   "cell_type": "code",
   "execution_count": 13,
   "metadata": {},
   "outputs": [],
   "source": [
    "strata_views = 827375"
   ]
  },
  {
   "cell_type": "markdown",
   "metadata": {},
   "source": [
    "# 12 Similar Channels DF That at least 20 StratScratchers have subscribed to\n",
    "This df is channels with view and subscriber counts close to Stratascratch"
   ]
  },
  {
   "cell_type": "code",
   "execution_count": 33,
   "metadata": {},
   "outputs": [],
   "source": [
    "#create df called \"similar\"\n",
    "conds = (df.c_views > 500000) & (df.c_views < 1500000) &(df.c_subCount < 30000) & (df.c_subCount > 5000)\n",
    "similar = df.loc[conds]; len(similar)"
   ]
  },
  {
   "cell_type": "code",
   "execution_count": 138,
   "metadata": {},
   "outputs": [],
   "source": [
    "similar = similar.sort_values('c_subCount',ascending=False)"
   ]
  },
  {
   "cell_type": "code",
   "execution_count": 139,
   "metadata": {},
   "outputs": [
    {
     "data": {
      "text/html": [
       "<div>\n",
       "<style scoped>\n",
       "    .dataframe tbody tr th:only-of-type {\n",
       "        vertical-align: middle;\n",
       "    }\n",
       "\n",
       "    .dataframe tbody tr th {\n",
       "        vertical-align: top;\n",
       "    }\n",
       "\n",
       "    .dataframe thead th {\n",
       "        text-align: right;\n",
       "    }\n",
       "</style>\n",
       "<table border=\"1\" class=\"dataframe\">\n",
       "  <thead>\n",
       "    <tr style=\"text-align: right;\">\n",
       "      <th></th>\n",
       "      <th>c_subCount</th>\n",
       "      <th>c_title</th>\n",
       "      <th>c_id</th>\n",
       "      <th>c_publishedYear</th>\n",
       "      <th>c_vidCount</th>\n",
       "      <th>c_views</th>\n",
       "      <th>c_topicIds</th>\n",
       "    </tr>\n",
       "  </thead>\n",
       "  <tbody>\n",
       "    <tr>\n",
       "      <th>646</th>\n",
       "      <td>29600</td>\n",
       "      <td>LearnBI.online (formerly Vitamin BI)</td>\n",
       "      <td>UC1bhYMFuSFREIQ5bgclLDkQ</td>\n",
       "      <td>2017</td>\n",
       "      <td>39</td>\n",
       "      <td>1042546</td>\n",
       "      <td>['/m/01k8wb', '/m/019_rr', '/g/120y8l81', '/m/07c1v']</td>\n",
       "    </tr>\n",
       "    <tr>\n",
       "      <th>306</th>\n",
       "      <td>28000</td>\n",
       "      <td>Andreas Kretz</td>\n",
       "      <td>UCY8mzqqGwl5_bTpBY9qLMAA</td>\n",
       "      <td>2017</td>\n",
       "      <td>184</td>\n",
       "      <td>735373</td>\n",
       "      <td>['/m/019_rr', '/m/07c1v', '/m/01k8wb']</td>\n",
       "    </tr>\n",
       "    <tr>\n",
       "      <th>0</th>\n",
       "      <td>27400</td>\n",
       "      <td>StrataScratch</td>\n",
       "      <td>UCW8Ews7tdKKkBT6GdtQaXvQ</td>\n",
       "      <td>2019</td>\n",
       "      <td>86</td>\n",
       "      <td>827375</td>\n",
       "      <td>['/m/07c1v', '/m/019_rr', '/m/01k8wb']</td>\n",
       "    </tr>\n",
       "    <tr>\n",
       "      <th>528</th>\n",
       "      <td>26400</td>\n",
       "      <td>Tableau Tim</td>\n",
       "      <td>UC7HYxRWmaNlJux-X7rNLZyw</td>\n",
       "      <td>2010</td>\n",
       "      <td>300</td>\n",
       "      <td>1432706</td>\n",
       "      <td>['/m/07c1v', '/m/01k8wb', '/m/019_rr']</td>\n",
       "    </tr>\n",
       "    <tr>\n",
       "      <th>568</th>\n",
       "      <td>21200</td>\n",
       "      <td>Bryan Cafferky</td>\n",
       "      <td>UCEdMzQ0m9WcZQepgizrHpMw</td>\n",
       "      <td>2011</td>\n",
       "      <td>132</td>\n",
       "      <td>1134071</td>\n",
       "      <td>['/m/019_rr', '/m/01k8wb', '/m/07c1v']</td>\n",
       "    </tr>\n",
       "    <tr>\n",
       "      <th>320</th>\n",
       "      <td>18400</td>\n",
       "      <td>RichardOnData</td>\n",
       "      <td>UCKPyg5gsnt6h0aA8EBw3i6A</td>\n",
       "      <td>2019</td>\n",
       "      <td>111</td>\n",
       "      <td>579220</td>\n",
       "      <td>['/m/07c1v', '/m/019_rr', '/m/01k8wb', '/g/120y8l81']</td>\n",
       "    </tr>\n",
       "    <tr>\n",
       "      <th>399</th>\n",
       "      <td>15500</td>\n",
       "      <td>sqlbelle</td>\n",
       "      <td>UCW2E1sGBVde5WMMxEh5CW4w</td>\n",
       "      <td>2020</td>\n",
       "      <td>54</td>\n",
       "      <td>830003</td>\n",
       "      <td>['/m/01k8wb', '/m/019_rr', '/m/07c1v']</td>\n",
       "    </tr>\n",
       "    <tr>\n",
       "      <th>457</th>\n",
       "      <td>9300</td>\n",
       "      <td>Becoming a Data Scientist</td>\n",
       "      <td>UCFVHt6gpzRxx8BsdSSYDjVQ</td>\n",
       "      <td>2019</td>\n",
       "      <td>71</td>\n",
       "      <td>597816</td>\n",
       "      <td>['/m/01k8wb', '/m/07c1v', '/m/019_rr']</td>\n",
       "    </tr>\n",
       "  </tbody>\n",
       "</table>\n",
       "</div>"
      ],
      "text/plain": [
       "     c_subCount                               c_title  \\\n",
       "646       29600  LearnBI.online (formerly Vitamin BI)   \n",
       "306       28000                         Andreas Kretz   \n",
       "0         27400                         StrataScratch   \n",
       "528       26400                           Tableau Tim   \n",
       "568       21200                        Bryan Cafferky   \n",
       "320       18400                         RichardOnData   \n",
       "399       15500                              sqlbelle   \n",
       "457        9300             Becoming a Data Scientist   \n",
       "\n",
       "                         c_id  c_publishedYear  c_vidCount  c_views  \\\n",
       "646  UC1bhYMFuSFREIQ5bgclLDkQ             2017          39  1042546   \n",
       "306  UCY8mzqqGwl5_bTpBY9qLMAA             2017         184   735373   \n",
       "0    UCW8Ews7tdKKkBT6GdtQaXvQ             2019          86   827375   \n",
       "528  UC7HYxRWmaNlJux-X7rNLZyw             2010         300  1432706   \n",
       "568  UCEdMzQ0m9WcZQepgizrHpMw             2011         132  1134071   \n",
       "320  UCKPyg5gsnt6h0aA8EBw3i6A             2019         111   579220   \n",
       "399  UCW2E1sGBVde5WMMxEh5CW4w             2020          54   830003   \n",
       "457  UCFVHt6gpzRxx8BsdSSYDjVQ             2019          71   597816   \n",
       "\n",
       "                                                c_topicIds  \n",
       "646  ['/m/01k8wb', '/m/019_rr', '/g/120y8l81', '/m/07c1v']  \n",
       "306                 ['/m/019_rr', '/m/07c1v', '/m/01k8wb']  \n",
       "0                   ['/m/07c1v', '/m/019_rr', '/m/01k8wb']  \n",
       "528                 ['/m/07c1v', '/m/01k8wb', '/m/019_rr']  \n",
       "568                 ['/m/019_rr', '/m/01k8wb', '/m/07c1v']  \n",
       "320  ['/m/07c1v', '/m/019_rr', '/m/01k8wb', '/g/120y8l81']  \n",
       "399                 ['/m/01k8wb', '/m/019_rr', '/m/07c1v']  \n",
       "457                 ['/m/01k8wb', '/m/07c1v', '/m/019_rr']  "
      ]
     },
     "execution_count": 139,
     "metadata": {},
     "output_type": "execute_result"
    }
   ],
   "source": [
    "similar[['c_subCount','c_title','c_id', 'c_publishedYear','c_vidCount','c_views','c_topicIds']]"
   ]
  },
  {
   "cell_type": "code",
   "execution_count": 38,
   "metadata": {},
   "outputs": [
    {
     "name": "stdout",
     "output_type": "stream",
     "text": [
      "https://www.youtube.com/channel/UC7HYxRWmaNlJux-X7rNLZyw\n",
      "https://www.youtube.com/channel/UCEdMzQ0m9WcZQepgizrHpMw\n",
      "https://www.youtube.com/channel/UC1bhYMFuSFREIQ5bgclLDkQ\n",
      "https://www.youtube.com/channel/UCY8mzqqGwl5_bTpBY9qLMAA\n",
      "https://www.youtube.com/channel/UCW8Ews7tdKKkBT6GdtQaXvQ\n",
      "https://www.youtube.com/channel/UCKPyg5gsnt6h0aA8EBw3i6A\n",
      "https://www.youtube.com/channel/UCFVHt6gpzRxx8BsdSSYDjVQ\n",
      "https://www.youtube.com/channel/UCW2E1sGBVde5WMMxEh5CW4w\n"
     ]
    }
   ],
   "source": [
    "for o in similar.c_id:\n",
    "    print('https://www.youtube.com/channel/'+o)"
   ]
  },
  {
   "cell_type": "markdown",
   "metadata": {},
   "source": [
    "---"
   ]
  },
  {
   "cell_type": "markdown",
   "metadata": {},
   "source": [
    "# Non-StrataScratch Topics Channels \"Hobbies\""
   ]
  },
  {
   "cell_type": "code",
   "execution_count": 68,
   "metadata": {},
   "outputs": [],
   "source": [
    "ss_topics = ['/m/07c1v', '/m/019_rr', '/m/01k8wb'] #topics Youtube gave to the ss note: this is being depricated"
   ]
  },
  {
   "cell_type": "code",
   "execution_count": 69,
   "metadata": {},
   "outputs": [
    {
     "name": "stdout",
     "output_type": "stream",
     "text": [
      "517 Channels have the same topic Ids as SS\n"
     ]
    }
   ],
   "source": [
    "print(str(len(df[df.c_topicIds.str.contains('|'.join(ss_topics))]))+ ' Channels have the same topic Ids as SS')"
   ]
  },
  {
   "cell_type": "code",
   "execution_count": 70,
   "metadata": {},
   "outputs": [
    {
     "name": "stdout",
     "output_type": "stream",
     "text": [
      "179 Channels DO NOT contain same topic Ids as SS\n"
     ]
    }
   ],
   "source": [
    "print(str(len(df[~df.c_topicIds.str.contains('|'.join(ss_topics))]))+ ' Channels DO NOT contain same topic Ids as SS')"
   ]
  },
  {
   "cell_type": "markdown",
   "metadata": {},
   "source": [
    "# 10 Hobby Channels with >20 SS sub overlap but no \"topic\" overlap"
   ]
  },
  {
   "cell_type": "code",
   "execution_count": 143,
   "metadata": {},
   "outputs": [
    {
     "data": {
      "text/html": [
       "<div>\n",
       "<style scoped>\n",
       "    .dataframe tbody tr th:only-of-type {\n",
       "        vertical-align: middle;\n",
       "    }\n",
       "\n",
       "    .dataframe tbody tr th {\n",
       "        vertical-align: top;\n",
       "    }\n",
       "\n",
       "    .dataframe thead th {\n",
       "        text-align: right;\n",
       "    }\n",
       "</style>\n",
       "<table border=\"1\" class=\"dataframe\">\n",
       "  <thead>\n",
       "    <tr style=\"text-align: right;\">\n",
       "      <th></th>\n",
       "      <th>c_title</th>\n",
       "      <th>c_subCount</th>\n",
       "      <th>c_country</th>\n",
       "      <th>c_publishedYear</th>\n",
       "      <th>c_vidCount</th>\n",
       "      <th>c_views</th>\n",
       "      <th>c_topicCats</th>\n",
       "      <th>c_desc</th>\n",
       "    </tr>\n",
       "  </thead>\n",
       "  <tbody>\n",
       "    <tr>\n",
       "      <th>422</th>\n",
       "      <td>Dapp University</td>\n",
       "      <td>499000</td>\n",
       "      <td>US</td>\n",
       "      <td>2018</td>\n",
       "      <td>915</td>\n",
       "      <td>22153386</td>\n",
       "      <td>['https://en.wikipedia.org/wiki/Society']</td>\n",
       "      <td>Learn to build decentralized apps on the Ethereum Blockchain.</td>\n",
       "    </tr>\n",
       "    <tr>\n",
       "      <th>143</th>\n",
       "      <td>Joshua Fluke</td>\n",
       "      <td>503000</td>\n",
       "      <td>US</td>\n",
       "      <td>2010</td>\n",
       "      <td>1104</td>\n",
       "      <td>72063070</td>\n",
       "      <td>['https://en.wikipedia.org/wiki/Society']</td>\n",
       "      <td>I make a variety of content. I'm always having these wild ideas.</td>\n",
       "    </tr>\n",
       "    <tr>\n",
       "      <th>382</th>\n",
       "      <td>Random Chikibum</td>\n",
       "      <td>694000</td>\n",
       "      <td>IN</td>\n",
       "      <td>2015</td>\n",
       "      <td>211</td>\n",
       "      <td>107440573</td>\n",
       "      <td>['https://en.wikipedia.org/wiki/Humour', 'https://en.wikipedia.org/wiki/Film', 'https://en.wikipedia.org/wiki/Entertainment']</td>\n",
       "      <td>Random Chikibum is a comedy channel by Rahul Subramanian &amp; Kumar Varun. Subscribe to this channel to watch their stand up videos and comedy sketches</td>\n",
       "    </tr>\n",
       "    <tr>\n",
       "      <th>648</th>\n",
       "      <td>P R Sundar</td>\n",
       "      <td>898000</td>\n",
       "      <td>IN</td>\n",
       "      <td>2009</td>\n",
       "      <td>975</td>\n",
       "      <td>114922056</td>\n",
       "      <td>['https://en.wikipedia.org/wiki/Society']</td>\n",
       "      <td>Options Trader.\\nMarket Analyst.\\n</td>\n",
       "    </tr>\n",
       "    <tr>\n",
       "      <th>245</th>\n",
       "      <td>Coffeezilla</td>\n",
       "      <td>1010000</td>\n",
       "      <td>US</td>\n",
       "      <td>2018</td>\n",
       "      <td>441</td>\n",
       "      <td>124542667</td>\n",
       "      <td>['https://en.wikipedia.org/wiki/Society']</td>\n",
       "      <td>I uncover scams, fraudsters and fake gurus that are preying on desperate people with deceptive advertising. If you have to ask... it’s probably too good to be true.\\nTWITTER: @coffeebreak_yt\\nhttps://twitter.com/coffeebreak_YT\\nINSTA: @coffeebreak_yt\\n</td>\n",
       "    </tr>\n",
       "    <tr>\n",
       "      <th>594</th>\n",
       "      <td>Jake Tran</td>\n",
       "      <td>1030000</td>\n",
       "      <td>US</td>\n",
       "      <td>2014</td>\n",
       "      <td>167</td>\n",
       "      <td>101440420</td>\n",
       "      <td>['https://en.wikipedia.org/wiki/Society']</td>\n",
       "      <td>I make documentaries on money, power, war, &amp; crime. 23 year capitalist.</td>\n",
       "    </tr>\n",
       "    <tr>\n",
       "      <th>654</th>\n",
       "      <td>Tried&amp;Refused Productions.</td>\n",
       "      <td>1040000</td>\n",
       "      <td>IN</td>\n",
       "      <td>2015</td>\n",
       "      <td>968</td>\n",
       "      <td>389269467</td>\n",
       "      <td>['https://en.wikipedia.org/wiki/Film', 'https://en.wikipedia.org/wiki/Entertainment']</td>\n",
       "      <td>BOLLYWOOD ANALYSIS, DISCUSSIONS &amp; AWESOME DANCE ROUTINES :)</td>\n",
       "    </tr>\n",
       "    <tr>\n",
       "      <th>372</th>\n",
       "      <td>CNBC International</td>\n",
       "      <td>1070000</td>\n",
       "      <td>GB</td>\n",
       "      <td>2014</td>\n",
       "      <td>2369</td>\n",
       "      <td>195150428</td>\n",
       "      <td>['https://en.wikipedia.org/wiki/Society', 'https://en.wikipedia.org/wiki/Business']</td>\n",
       "      <td>CNBC is the number one business and financial news network on the planet. Join us on YouTube as we take you around the world, give you the tools you need to get ahead in business, and explain the stories making the headlines from London to Singapore.</td>\n",
       "    </tr>\n",
       "    <tr>\n",
       "      <th>203</th>\n",
       "      <td>Think School</td>\n",
       "      <td>1120000</td>\n",
       "      <td>IN</td>\n",
       "      <td>2020</td>\n",
       "      <td>135</td>\n",
       "      <td>59288461</td>\n",
       "      <td>['https://en.wikipedia.org/wiki/Business', 'https://en.wikipedia.org/wiki/Society']</td>\n",
       "      <td>The Indian education system is messed up and everyone knows about it. But very few are doing something to fix it.\\nThink school is an education start-up and we want to put a dent in the Indian education system by providing world-class education at lesser than the price of a Denim Jeans.\\n\\nAnd every piece of work we do is to fulfill this purpose by teaching you the most valuable skills of the 21st century that schools and colleges will never teach.\\n\\nTo be a part of our movement join our 3 online courses:\\n1. Communication Masterclass\\n2. Resume Masterclass\\n3. LinkedIn Masterclass\\n\\nPle...</td>\n",
       "    </tr>\n",
       "    <tr>\n",
       "      <th>415</th>\n",
       "      <td>Tifo Football</td>\n",
       "      <td>1120000</td>\n",
       "      <td>GB</td>\n",
       "      <td>2014</td>\n",
       "      <td>1112</td>\n",
       "      <td>212442313</td>\n",
       "      <td>['https://en.wikipedia.org/wiki/Association_football', 'https://en.wikipedia.org/wiki/Sport']</td>\n",
       "      <td>In-depth tactical, historical and geopolitical breakdowns of the beautiful game. \\n\\nOur videos provide analysis on the Premier League, Champions League, La Liga, Serie A, Bundesliga, World Cup and more. Our podcasts interview some of the game’s leading figures. And our editorial covers football with depth and insight.\\n\\nFounded in 2017 and became a part of The Athletic in 2020.\\n</td>\n",
       "    </tr>\n",
       "  </tbody>\n",
       "</table>\n",
       "</div>"
      ],
      "text/plain": [
       "                        c_title  c_subCount c_country  c_publishedYear  \\\n",
       "422             Dapp University      499000        US             2018   \n",
       "143                Joshua Fluke      503000        US             2010   \n",
       "382             Random Chikibum      694000        IN             2015   \n",
       "648                  P R Sundar      898000        IN             2009   \n",
       "245                 Coffeezilla     1010000        US             2018   \n",
       "594                   Jake Tran     1030000        US             2014   \n",
       "654  Tried&Refused Productions.     1040000        IN             2015   \n",
       "372          CNBC International     1070000        GB             2014   \n",
       "203                Think School     1120000        IN             2020   \n",
       "415               Tifo Football     1120000        GB             2014   \n",
       "\n",
       "     c_vidCount    c_views  \\\n",
       "422         915   22153386   \n",
       "143        1104   72063070   \n",
       "382         211  107440573   \n",
       "648         975  114922056   \n",
       "245         441  124542667   \n",
       "594         167  101440420   \n",
       "654         968  389269467   \n",
       "372        2369  195150428   \n",
       "203         135   59288461   \n",
       "415        1112  212442313   \n",
       "\n",
       "                                                                                                                       c_topicCats  \\\n",
       "422                                                                                      ['https://en.wikipedia.org/wiki/Society']   \n",
       "143                                                                                      ['https://en.wikipedia.org/wiki/Society']   \n",
       "382  ['https://en.wikipedia.org/wiki/Humour', 'https://en.wikipedia.org/wiki/Film', 'https://en.wikipedia.org/wiki/Entertainment']   \n",
       "648                                                                                      ['https://en.wikipedia.org/wiki/Society']   \n",
       "245                                                                                      ['https://en.wikipedia.org/wiki/Society']   \n",
       "594                                                                                      ['https://en.wikipedia.org/wiki/Society']   \n",
       "654                                          ['https://en.wikipedia.org/wiki/Film', 'https://en.wikipedia.org/wiki/Entertainment']   \n",
       "372                                            ['https://en.wikipedia.org/wiki/Society', 'https://en.wikipedia.org/wiki/Business']   \n",
       "203                                            ['https://en.wikipedia.org/wiki/Business', 'https://en.wikipedia.org/wiki/Society']   \n",
       "415                                  ['https://en.wikipedia.org/wiki/Association_football', 'https://en.wikipedia.org/wiki/Sport']   \n",
       "\n",
       "                                                                                                                                                                                                                                                                                                                                                                                                                                                                                                                                                                                                                      c_desc  \n",
       "422                                                                                                                                                                                                                                                                                                                                                                                                                                                                                                                                                            Learn to build decentralized apps on the Ethereum Blockchain.  \n",
       "143                                                                                                                                                                                                                                                                                                                                                                                                                                                                                                                                                         I make a variety of content. I'm always having these wild ideas.  \n",
       "382                                                                                                                                                                                                                                                                                                                                                                                                                                                                     Random Chikibum is a comedy channel by Rahul Subramanian & Kumar Varun. Subscribe to this channel to watch their stand up videos and comedy sketches  \n",
       "648                                                                                                                                                                                                                                                                                                                                                                                                                                                                                                                                                                                       Options Trader.\\nMarket Analyst.\\n  \n",
       "245                                                                                                                                                                                                                                                                                                                                                             I uncover scams, fraudsters and fake gurus that are preying on desperate people with deceptive advertising. If you have to ask... it’s probably too good to be true.\\nTWITTER: @coffeebreak_yt\\nhttps://twitter.com/coffeebreak_YT\\nINSTA: @coffeebreak_yt\\n  \n",
       "594                                                                                                                                                                                                                                                                                                                                                                                                                                                                                                                                                  I make documentaries on money, power, war, & crime. 23 year capitalist.  \n",
       "654                                                                                                                                                                                                                                                                                                                                                                                                                                                                                                                                                              BOLLYWOOD ANALYSIS, DISCUSSIONS & AWESOME DANCE ROUTINES :)  \n",
       "372                                                                                                                                                                                                                                                                                                                                                               CNBC is the number one business and financial news network on the planet. Join us on YouTube as we take you around the world, give you the tools you need to get ahead in business, and explain the stories making the headlines from London to Singapore.  \n",
       "203  The Indian education system is messed up and everyone knows about it. But very few are doing something to fix it.\\nThink school is an education start-up and we want to put a dent in the Indian education system by providing world-class education at lesser than the price of a Denim Jeans.\\n\\nAnd every piece of work we do is to fulfill this purpose by teaching you the most valuable skills of the 21st century that schools and colleges will never teach.\\n\\nTo be a part of our movement join our 3 online courses:\\n1. Communication Masterclass\\n2. Resume Masterclass\\n3. LinkedIn Masterclass\\n\\nPle...  \n",
       "415                                                                                                                                                                                                                         In-depth tactical, historical and geopolitical breakdowns of the beautiful game. \\n\\nOur videos provide analysis on the Premier League, Champions League, La Liga, Serie A, Bundesliga, World Cup and more. Our podcasts interview some of the game’s leading figures. And our editorial covers football with depth and insight.\\n\\nFounded in 2017 and became a part of The Athletic in 2020.\\n  "
      ]
     },
     "execution_count": 143,
     "metadata": {},
     "output_type": "execute_result"
    }
   ],
   "source": [
    "#create not similar 'different' df\n",
    "dif = df[~df.c_topicIds.str.contains('|'.join(ss_topics))]; dif = dif.sort_values('c_subCount')\n",
    "# dif[['c_title','c_subCount', 'c_country','c_publishedYear', 'c_vidCount', 'c_views','c_topicCats','c_desc']][:10]\n",
    "dif = dif[:10] ; dif[favcols][:10]"
   ]
  },
  {
   "cell_type": "code",
   "execution_count": 144,
   "metadata": {},
   "outputs": [
    {
     "name": "stdout",
     "output_type": "stream",
     "text": [
      "https://www.youtube.com/channel/UCY0xL8V6NzzFcwzHCgB8orQ\n",
      "https://www.youtube.com/channel/UC-91UA-Xy2Cvb98deRXuggA\n",
      "https://www.youtube.com/channel/UC8RrHpql7M97Lqyg9J6hSww\n",
      "https://www.youtube.com/channel/UCS2NdYUmv_PUyyKeDAo5zYA\n",
      "https://www.youtube.com/channel/UCFQMnBA3CS502aghlcr0_aw\n",
      "https://www.youtube.com/channel/UCoOjH8D2XAgjzQlneM2W0EQ\n",
      "https://www.youtube.com/channel/UCgbzclo4Mfy_D68w_Bm_xHg\n",
      "https://www.youtube.com/channel/UCo7a6riBFJ3tkeHjvkXPn1g\n",
      "https://www.youtube.com/channel/UCKZozRVHRYsYHGEyNKuhhdA\n",
      "https://www.youtube.com/channel/UCGYYNGmyhZ_kwBF_lqqXdAQ\n"
     ]
    }
   ],
   "source": [
    "for o in dif.c_id:\n",
    "    print('https://www.youtube.com/channel/'+o)"
   ]
  },
  {
   "cell_type": "markdown",
   "metadata": {},
   "source": [
    "# Next steps:"
   ]
  },
  {
   "cell_type": "markdown",
   "metadata": {},
   "source": [
    "-pull \"video descriptions\" of overlapping channels and begin to compare stratascratch vs competitors descriptions.\n",
    "-"
   ]
  },
  {
   "cell_type": "markdown",
   "metadata": {},
   "source": [
    "---"
   ]
  }
 ],
 "metadata": {
  "kernelspec": {
   "display_name": "Python 3 (ipykernel)",
   "language": "python",
   "name": "python3"
  },
  "language_info": {
   "codemirror_mode": {
    "name": "ipython",
    "version": 3
   },
   "file_extension": ".py",
   "mimetype": "text/x-python",
   "name": "python",
   "nbconvert_exporter": "python",
   "pygments_lexer": "ipython3",
   "version": "3.7.11"
  }
 },
 "nbformat": 4,
 "nbformat_minor": 4
}
